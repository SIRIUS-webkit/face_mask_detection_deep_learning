{
  "nbformat": 4,
  "nbformat_minor": 0,
  "metadata": {
    "colab": {
      "name": "face_mask_detector.ipynb",
      "provenance": [],
      "authorship_tag": "ABX9TyOzvdpb0U3eVGuRVNR/bGUa",
      "include_colab_link": true
    },
    "kernelspec": {
      "name": "python3",
      "display_name": "Python 3"
    },
    "language_info": {
      "name": "python"
    },
    "accelerator": "GPU"
  },
  "cells": [
    {
      "cell_type": "markdown",
      "metadata": {
        "id": "view-in-github",
        "colab_type": "text"
      },
      "source": [
        "<a href=\"https://colab.research.google.com/github/SIRIUS-webkit/face_mask_detection_deep_learning/blob/main/face_mask_detector.ipynb\" target=\"_parent\"><img src=\"https://colab.research.google.com/assets/colab-badge.svg\" alt=\"Open In Colab\"/></a>"
      ]
    },
    {
      "cell_type": "code",
      "metadata": {
        "colab": {
          "base_uri": "https://localhost:8080/"
        },
        "id": "q3hOTWBKzhyt",
        "outputId": "c4bfeea7-d8cd-4c26-e703-d91db6e3686e"
      },
      "source": [
        "! git clone https://github.com/SIRIUS-webkit/face_mask_detection_deep_learning.git"
      ],
      "execution_count": 1,
      "outputs": [
        {
          "output_type": "stream",
          "text": [
            "Cloning into 'face_mask_detection_deep_learning'...\n",
            "remote: Enumerating objects: 3746, done.\u001b[K\n",
            "remote: Counting objects: 100% (3746/3746), done.\u001b[K\n",
            "remote: Compressing objects: 100% (3741/3741), done.\u001b[K\n",
            "remote: Total 3746 (delta 0), reused 3732 (delta 0), pack-reused 0\u001b[K\n",
            "Receiving objects: 100% (3746/3746), 121.88 MiB | 32.70 MiB/s, done.\n"
          ],
          "name": "stdout"
        }
      ]
    },
    {
      "cell_type": "code",
      "metadata": {
        "id": "b9oY-Vkwz18z"
      },
      "source": [
        "import os\n",
        "import cv2\n",
        "import numpy as np"
      ],
      "execution_count": 2,
      "outputs": []
    },
    {
      "cell_type": "code",
      "metadata": {
        "id": "CtTixH-f0Q_M"
      },
      "source": [
        "data = []\n",
        "label = []\n",
        "base_path = \"/content/face_mask_detection_deep_learning/dataset\"\n",
        "for category in os.listdir(base_path):\n",
        "  img_path = os.path.join(base_path, category)\n",
        "  for images in os.listdir(img_path):\n",
        "    real_img = os.path.join(img_path, images)\n",
        "    img = cv2.imread(real_img)\n",
        "    resized = cv2.resize(img, (112,112))\n",
        "    data.append(resized)\n",
        "    label.append(category)\n",
        "data = np.array(data)/255.0\n",
        "label = np.array(label)"
      ],
      "execution_count": 3,
      "outputs": []
    },
    {
      "cell_type": "code",
      "metadata": {
        "id": "Gmhge4eA2S3L"
      },
      "source": [
        "from tensorflow.keras.utils import to_categorical\n",
        "from sklearn.preprocessing import LabelBinarizer\n",
        "\n",
        "lb = LabelBinarizer()\n",
        "label = lb.fit_transform(label)\n",
        "label = to_categorical(label)"
      ],
      "execution_count": 4,
      "outputs": []
    },
    {
      "cell_type": "code",
      "metadata": {
        "id": "CO7sUA_R2pLD"
      },
      "source": [
        "from tensorflow.keras.preprocessing.image import ImageDataGenerator\n",
        "from sklearn.model_selection import train_test_split\n",
        "from tensorflow.keras.models import Sequential\n",
        "from tensorflow.keras.layers import Dense,Activation,Flatten,Dropout,Conv2D,MaxPooling2D\n",
        "from tensorflow.keras.optimizers import Adam"
      ],
      "execution_count": 5,
      "outputs": []
    },
    {
      "cell_type": "code",
      "metadata": {
        "id": "8_VqSfaq3lnx"
      },
      "source": [
        "x_train,x_test,y_train,y_test = train_test_split(data,label,test_size=0.20,random_state=42)\n",
        "aug = ImageDataGenerator(\n",
        "\trotation_range=20,\n",
        "\tzoom_range=0.15,\n",
        "\twidth_shift_range=0.2,\n",
        "\theight_shift_range=0.2,\n",
        "\tshear_range=0.15,\n",
        "\thorizontal_flip=True,\n",
        "\tfill_mode=\"nearest\")"
      ],
      "execution_count": 6,
      "outputs": []
    },
    {
      "cell_type": "code",
      "metadata": {
        "colab": {
          "base_uri": "https://localhost:8080/"
        },
        "id": "e8zlBH904CIT",
        "outputId": "889c9f5b-a5c3-4af2-9079-18068c2f23b4"
      },
      "source": [
        "numClasses = 2\n",
        "batch_size = 32\n",
        "\n",
        "model = Sequential()\n",
        "\n",
        "#first layer\n",
        "model.add(Conv2D(200,(3,3), input_shape=(112,112,3)))\n",
        "model.add(Activation('relu'))\n",
        "model.add(MaxPooling2D(pool_size=(2,2)))\n",
        "\n",
        "model.add(Conv2D(100,(3,3)))\n",
        "model.add(Activation('relu'))\n",
        "model.add(MaxPooling2D(pool_size=(2,2)))\n",
        "\n",
        "model.add(Flatten())\n",
        "model.add(Dropout(0.5))\n",
        "\n",
        "model.add(Dense(50, activation=\"relu\"))\n",
        "model.add(Dense(numClasses, activation=\"softmax\"))\n",
        "\n",
        "print(model.summary)\n"
      ],
      "execution_count": 7,
      "outputs": [
        {
          "output_type": "stream",
          "text": [
            "<bound method Model.summary of <tensorflow.python.keras.engine.sequential.Sequential object at 0x7f1e32071390>>\n"
          ],
          "name": "stdout"
        }
      ]
    },
    {
      "cell_type": "code",
      "metadata": {
        "colab": {
          "base_uri": "https://localhost:8080/"
        },
        "id": "q5bsFudw5ahM",
        "outputId": "94369cdd-eb32-4242-8b93-a3de4055a892"
      },
      "source": [
        "EPOCHS = 30\n",
        "opt = Adam(lr=0.0001, decay=0.0001 / EPOCHS)\n",
        "model.compile(loss=\"binary_crossentropy\", optimizer=opt,metrics=[\"accuracy\"])\n",
        "H = model.fit(\n",
        "\taug.flow(x_train, y_train, batch_size=32),\n",
        "\tsteps_per_epoch=len(x_train) // 32,\n",
        "\tvalidation_data=(x_test, y_test),\n",
        "\tvalidation_steps=len(x_test) // 32,\n",
        "\tepochs=EPOCHS)"
      ],
      "execution_count": 8,
      "outputs": [
        {
          "output_type": "stream",
          "text": [
            "/usr/local/lib/python3.7/dist-packages/tensorflow/python/keras/optimizer_v2/optimizer_v2.py:375: UserWarning: The `lr` argument is deprecated, use `learning_rate` instead.\n",
            "  \"The `lr` argument is deprecated, use `learning_rate` instead.\")\n"
          ],
          "name": "stderr"
        },
        {
          "output_type": "stream",
          "text": [
            "Epoch 1/30\n",
            "95/95 [==============================] - 43s 113ms/step - loss: 0.4779 - accuracy: 0.7805 - val_loss: 0.2770 - val_accuracy: 0.9016\n",
            "Epoch 2/30\n",
            "95/95 [==============================] - 11s 111ms/step - loss: 0.3262 - accuracy: 0.8763 - val_loss: 0.2218 - val_accuracy: 0.9173\n",
            "Epoch 3/30\n",
            "95/95 [==============================] - 10s 108ms/step - loss: 0.3053 - accuracy: 0.8806 - val_loss: 0.2180 - val_accuracy: 0.9226\n",
            "Epoch 4/30\n",
            "95/95 [==============================] - 11s 112ms/step - loss: 0.2878 - accuracy: 0.8909 - val_loss: 0.2021 - val_accuracy: 0.9226\n",
            "Epoch 5/30\n",
            "95/95 [==============================] - 10s 105ms/step - loss: 0.2765 - accuracy: 0.8886 - val_loss: 0.2111 - val_accuracy: 0.9213\n",
            "Epoch 6/30\n",
            "95/95 [==============================] - 10s 102ms/step - loss: 0.2654 - accuracy: 0.8969 - val_loss: 0.1804 - val_accuracy: 0.9331\n",
            "Epoch 7/30\n",
            "95/95 [==============================] - 10s 103ms/step - loss: 0.2533 - accuracy: 0.9019 - val_loss: 0.1776 - val_accuracy: 0.9318\n",
            "Epoch 8/30\n",
            "95/95 [==============================] - 10s 109ms/step - loss: 0.2377 - accuracy: 0.9065 - val_loss: 0.1852 - val_accuracy: 0.9344\n",
            "Epoch 9/30\n",
            "95/95 [==============================] - 10s 107ms/step - loss: 0.2429 - accuracy: 0.9068 - val_loss: 0.1582 - val_accuracy: 0.9436\n",
            "Epoch 10/30\n",
            "95/95 [==============================] - 10s 104ms/step - loss: 0.2428 - accuracy: 0.9108 - val_loss: 0.1544 - val_accuracy: 0.9436\n",
            "Epoch 11/30\n",
            "95/95 [==============================] - 10s 103ms/step - loss: 0.2250 - accuracy: 0.9151 - val_loss: 0.1590 - val_accuracy: 0.9357\n",
            "Epoch 12/30\n",
            "95/95 [==============================] - 10s 101ms/step - loss: 0.2277 - accuracy: 0.9145 - val_loss: 0.1381 - val_accuracy: 0.9488\n",
            "Epoch 13/30\n",
            "95/95 [==============================] - 10s 108ms/step - loss: 0.2407 - accuracy: 0.9068 - val_loss: 0.1470 - val_accuracy: 0.9449\n",
            "Epoch 14/30\n",
            "95/95 [==============================] - 11s 112ms/step - loss: 0.2192 - accuracy: 0.9145 - val_loss: 0.1386 - val_accuracy: 0.9462\n",
            "Epoch 15/30\n",
            "95/95 [==============================] - 10s 102ms/step - loss: 0.2273 - accuracy: 0.9135 - val_loss: 0.1445 - val_accuracy: 0.9449\n",
            "Epoch 16/30\n",
            "95/95 [==============================] - 10s 102ms/step - loss: 0.2124 - accuracy: 0.9181 - val_loss: 0.1393 - val_accuracy: 0.9475\n",
            "Epoch 17/30\n",
            "95/95 [==============================] - 10s 102ms/step - loss: 0.2055 - accuracy: 0.9214 - val_loss: 0.1293 - val_accuracy: 0.9488\n",
            "Epoch 18/30\n",
            "95/95 [==============================] - 10s 103ms/step - loss: 0.1972 - accuracy: 0.9244 - val_loss: 0.1201 - val_accuracy: 0.9514\n",
            "Epoch 19/30\n",
            "95/95 [==============================] - 10s 108ms/step - loss: 0.1965 - accuracy: 0.9267 - val_loss: 0.1184 - val_accuracy: 0.9593\n",
            "Epoch 20/30\n",
            "95/95 [==============================] - 10s 105ms/step - loss: 0.1979 - accuracy: 0.9201 - val_loss: 0.1317 - val_accuracy: 0.9528\n",
            "Epoch 21/30\n",
            "95/95 [==============================] - 10s 103ms/step - loss: 0.1964 - accuracy: 0.9267 - val_loss: 0.1145 - val_accuracy: 0.9567\n",
            "Epoch 22/30\n",
            "95/95 [==============================] - 10s 102ms/step - loss: 0.1819 - accuracy: 0.9267 - val_loss: 0.1157 - val_accuracy: 0.9528\n",
            "Epoch 23/30\n",
            "95/95 [==============================] - 10s 102ms/step - loss: 0.1899 - accuracy: 0.9231 - val_loss: 0.1160 - val_accuracy: 0.9554\n",
            "Epoch 24/30\n",
            "95/95 [==============================] - 10s 108ms/step - loss: 0.1774 - accuracy: 0.9314 - val_loss: 0.1068 - val_accuracy: 0.9554\n",
            "Epoch 25/30\n",
            "95/95 [==============================] - 10s 110ms/step - loss: 0.1814 - accuracy: 0.9310 - val_loss: 0.1157 - val_accuracy: 0.9514\n",
            "Epoch 26/30\n",
            "95/95 [==============================] - 10s 107ms/step - loss: 0.1794 - accuracy: 0.9290 - val_loss: 0.1240 - val_accuracy: 0.9501\n",
            "Epoch 27/30\n",
            "95/95 [==============================] - 10s 106ms/step - loss: 0.1749 - accuracy: 0.9317 - val_loss: 0.1051 - val_accuracy: 0.9646\n",
            "Epoch 28/30\n",
            "95/95 [==============================] - 10s 110ms/step - loss: 0.1817 - accuracy: 0.9320 - val_loss: 0.1205 - val_accuracy: 0.9554\n",
            "Epoch 29/30\n",
            "95/95 [==============================] - 10s 103ms/step - loss: 0.1698 - accuracy: 0.9334 - val_loss: 0.0980 - val_accuracy: 0.9646\n",
            "Epoch 30/30\n",
            "95/95 [==============================] - 10s 104ms/step - loss: 0.1612 - accuracy: 0.9387 - val_loss: 0.1054 - val_accuracy: 0.9593\n"
          ],
          "name": "stdout"
        }
      ]
    },
    {
      "cell_type": "code",
      "metadata": {
        "colab": {
          "base_uri": "https://localhost:8080/",
          "height": 541
        },
        "id": "hUPGXTtj6_TR",
        "outputId": "c48f4cc3-47b9-49f2-e521-0d13a4c9029c"
      },
      "source": [
        "from matplotlib import pyplot as plt\n",
        "plt.plot(H.history['loss'], 'r', label='training loss')\n",
        "plt.plot(H.history['val_loss'], label='validation loss')\n",
        "plt.xlabel('Number of Epochs')\n",
        "plt.ylabel('Loss Value')\n",
        "plt.legend()\n",
        "plt.show()\n",
        "\n",
        "plt.plot(H.history['accuracy'], 'r', label='training accuracy')\n",
        "plt.plot(H.history['val_accuracy'], label='validation accuracy')\n",
        "plt.xlabel('Number of Epochs')\n",
        "plt.ylabel('Accuracy Value')\n",
        "plt.legend()\n",
        "plt.show()\n"
      ],
      "execution_count": 9,
      "outputs": [
        {
          "output_type": "display_data",
          "data": {
            "image/png": "[encoded data removed]",
            "text/plain": [
              "<Figure size 432x288 with 1 Axes>"
            ]
          },
          "metadata": {
            "tags": [],
            "needs_background": "light"
          }
        },
        {
          "output_type": "display_data",
          "data": {
            "image/png": "[encoded data removed]",
            "text/plain": [
              "<Figure size 432x288 with 1 Axes>"
            ]
          },
          "metadata": {
            "tags": [],
            "needs_background": "light"
          }
        }
      ]
    },
    {
      "cell_type": "code",
      "metadata": {
        "id": "0hBq_uRV74I5"
      },
      "source": [
        "predict = model.predict(x_test)"
      ],
      "execution_count": 10,
      "outputs": []
    },
    {
      "cell_type": "code",
      "metadata": {
        "colab": {
          "base_uri": "https://localhost:8080/"
        },
        "id": "5tWXiAXL8DLI",
        "outputId": "039583bd-97b9-4ec5-eada-5c99801e2521"
      },
      "source": [
        "result = model.evaluate(x_test,y_test)\n",
        "print(result)"
      ],
      "execution_count": 11,
      "outputs": [
        {
          "output_type": "stream",
          "text": [
            "24/24 [==============================] - 0s 16ms/step - loss: 0.1054 - accuracy: 0.9593\n",
            "[0.10536111891269684, 0.9593175649642944]\n"
          ],
          "name": "stdout"
        }
      ]
    },
    {
      "cell_type": "code",
      "metadata": {
        "id": "dc9sXGhj8fSG"
      },
      "source": [
        "model.save('face_mask_detector_modelv1.h5')"
      ],
      "execution_count": 12,
      "outputs": []
    },
    {
      "cell_type": "code",
      "metadata": {
        "id": "Af57Qq9R8pCY"
      },
      "source": [
        ""
      ],
      "execution_count": null,
      "outputs": []
    }
  ]
}